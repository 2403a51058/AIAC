{
  "nbformat": 4,
  "nbformat_minor": 0,
  "metadata": {
    "colab": {
      "provenance": [],
      "mount_file_id": "1cDOCV7DXIjayfCNbL2D_dIwxeS5UMpBc",
      "authorship_tag": "ABX9TyPhYlKH5f8nUu+MiOKIJr0a",
      "include_colab_link": true
    },
    "kernelspec": {
      "name": "python3",
      "display_name": "Python 3"
    },
    "language_info": {
      "name": "python"
    }
  },
  "cells": [
    {
      "cell_type": "markdown",
      "metadata": {
        "id": "view-in-github",
        "colab_type": "text"
      },
      "source": [
        "<a href=\"https://colab.research.google.com/github/2403a51058/AIAC/blob/main/Lab_4.3.ipynb\" target=\"_parent\"><img src=\"https://colab.research.google.com/assets/colab-badge.svg\" alt=\"Open In Colab\"/></a>"
      ]
    },
    {
      "cell_type": "code",
      "source": [
        "Create a python function that checks whether a given year is a leap year and read the input from the console .\n"
      ],
      "metadata": {
        "id": "BfRaPdFFrgO8"
      },
      "execution_count": null,
      "outputs": []
    },
    {
      "cell_type": "markdown",
      "source": [
        "Task Description#1\n",
        "●\tZero-shot: Prompt AI to write a function that checks whether a given year is a leap year.\n",
        "Expected Output#1\n",
        "●\tAI-generated function with no examples provided\n",
        "PROMPT :\n",
        "Create a python function that checks whether a given year is a leap year and read the input from the console .\n"
      ],
      "metadata": {
        "id": "IRUYLw3jrVHF"
      }
    },
    {
      "cell_type": "code",
      "metadata": {
        "colab": {
          "base_uri": "https://localhost:8080/"
        },
        "id": "4de4c4f0",
        "outputId": "a57db3d9-8a4a-47ef-d7be-61eaefda862a"
      },
      "source": [
        "def is_leap(year):\n",
        "  \"\"\"\n",
        "  Checks if a given year is a leap year.\n",
        "\n",
        "  Args:\n",
        "    year: An integer representing the year.\n",
        "\n",
        "  Returns:\n",
        "    True if the year is a leap year, False otherwise.\n",
        "  \"\"\"\n",
        "  return (year % 4 == 0 and year % 100 != 0) or (year % 400 == 0)\n",
        "\n",
        "# Read input from the console\n",
        "try:\n",
        "  year = int(input(\"Enter a year: \"))\n",
        "  if is_leap(year):\n",
        "    print(f\"{year} is a leap year.\")\n",
        "  else:\n",
        "    print(f\"{year} is not a leap year.\")\n",
        "except ValueError:\n",
        "  print(\"Invalid input. Please enter a valid year.\")"
      ],
      "execution_count": 2,
      "outputs": [
        {
          "output_type": "stream",
          "name": "stdout",
          "text": [
            "Enter a year: 2024\n",
            "2024 is a leap year.\n"
          ]
        }
      ]
    },
    {
      "cell_type": "markdown",
      "source": [
        "Task Description#2\n",
        "●\tOne-shot: Give one input-output example to guide AI in writing a function that converts centimeters to inches.\n",
        "Expected Output#2\n",
        "●\tFunction with correct conversion logic\n",
        "PROMPT :\n",
        "Create a python function that converts centimeters to inches and read the input from the console . For example if the given input is 1cm then the output should be 1 cm = 0.3937 inches\n"
      ],
      "metadata": {
        "id": "S6g0xoTIsCFU"
      }
    },
    {
      "cell_type": "code",
      "source": [
        "Create a python function that converts centimeters to inches and read the input from the console . For example if the given input is 1cm then the output should be 1 cm = 0.3937 inches\n"
      ],
      "metadata": {
        "id": "384VCPh0sHLB"
      },
      "execution_count": null,
      "outputs": []
    },
    {
      "cell_type": "code",
      "metadata": {
        "colab": {
          "base_uri": "https://localhost:8080/"
        },
        "id": "153052a9",
        "outputId": "fdc03816-f281-4902-f423-14440ff709dc"
      },
      "source": [
        "def cm_to_inches(cm):\n",
        "  \"\"\"Converts centimeters to inches.\"\"\"\n",
        "  return cm * 0.393701\n",
        "\n",
        "# Read input from the console\n",
        "try:\n",
        "  cm = float(input(\"Enter a value in centimeters: \"))\n",
        "  inches = cm_to_inches(cm)\n",
        "  print(f\"{cm} cm = {inches:.4f} inches\")\n",
        "except ValueError:\n",
        "  print(\"Invalid input. Please enter a valid number.\")"
      ],
      "execution_count": 4,
      "outputs": [
        {
          "output_type": "stream",
          "name": "stdout",
          "text": [
            "Enter a value in centimeters: 10\n",
            "10.0 cm = 3.9370 inches\n"
          ]
        }
      ]
    },
    {
      "cell_type": "markdown",
      "source": [
        "Task Description#3\n",
        "●\tFew-shot: Provide 2–3 examples to generate a function that formats full names as “Last, First”.\n",
        "Expected Output#3\n",
        "●\tWell-structured function respecting the examples\n",
        "PROMPT :\n",
        "Create a python function that formats full names as “Last, First” and read the input from the console . For example the input is harshith lavishetty then the  output should be in the format of “lavishetty , harshith” another example if the input is rohan ankam then the  output should be in the format of “ankam , rohan”\n"
      ],
      "metadata": {
        "id": "17NWZ5-dscyD"
      }
    },
    {
      "cell_type": "code",
      "source": [
        "Create a python function that formats full names as “Last, First” and read the input from the console . For example the input is harshith lavishetty then the output should be in the format of “lavishetty , harshith” another example if the input is rohan ankam then the output should be in the format of “ankam , rohan”"
      ],
      "metadata": {
        "id": "AKjqfjYKspFv"
      },
      "execution_count": null,
      "outputs": []
    },
    {
      "cell_type": "code",
      "metadata": {
        "colab": {
          "base_uri": "https://localhost:8080/"
        },
        "id": "4130193a",
        "outputId": "a623295f-ce7e-41ea-8b75-d4afb14c1bde"
      },
      "source": [
        "def format_name(full_name):\n",
        "  \"\"\"Formats a full name as 'Last, First'.\n",
        "\n",
        "  Args:\n",
        "    full_name: A string containing the full name (e.g., \"Harshith Lavishetty\").\n",
        "\n",
        "  Returns:\n",
        "    A string in the format \"Last, First\" (e.g., \"Lavishetty, Harshith\").\n",
        "  \"\"\"\n",
        "  names = full_name.split()\n",
        "  if len(names) > 1:\n",
        "    return f\"{names[-1]}, {' '.join(names[:-1])}\"\n",
        "  else:\n",
        "    return full_name # Handle cases with only one name\n",
        "\n",
        "# Read input from the console\n",
        "full_name = input(\"Enter a full name: \")\n",
        "formatted_name = format_name(full_name)\n",
        "print(f\"Formatted name: {formatted_name}\")"
      ],
      "execution_count": 6,
      "outputs": [
        {
          "output_type": "stream",
          "name": "stdout",
          "text": [
            "Enter a full name: harshith lavishetty\n",
            "Formatted name: lavishetty, harshith\n"
          ]
        }
      ]
    },
    {
      "cell_type": "markdown",
      "source": [
        "Task Description#4\n",
        "●\tCompare zero-shot and few-shot prompts for writing a function that counts the number of vowels in a string.\n",
        "Expected Output#4\n",
        "●\tFunctional output and comparative reflection\n",
        "\n",
        "PROMPT :\n",
        "1)ZERO-SHOT PROMPT :\n",
        "Create a python function that counts the number of vowels in a string and read the input from the console .\n"
      ],
      "metadata": {
        "id": "OA99ZaQ9tE_h"
      }
    },
    {
      "cell_type": "code",
      "source": [
        "Create a python function that counts the number of vowels in a string and read the input from the console ."
      ],
      "metadata": {
        "id": "W1c7N3ddtLte"
      },
      "execution_count": null,
      "outputs": []
    },
    {
      "cell_type": "code",
      "metadata": {
        "colab": {
          "base_uri": "https://localhost:8080/"
        },
        "id": "c5ba6d78",
        "outputId": "ff13cbca-2a90-482f-db0e-4dfac18d448b"
      },
      "source": [
        "def count_vowels(text):\n",
        "  \"\"\"Counts the number of vowels in a string.\"\"\"\n",
        "  vowels = \"aeiouAEIOU\"\n",
        "  count = 0\n",
        "  for char in text:\n",
        "    if char in vowels:\n",
        "      count += 1\n",
        "  return count\n",
        "\n",
        "# Read input from the console\n",
        "input_string = input(\"Enter a string: \")\n",
        "vowel_count = count_vowels(input_string)\n",
        "print(f\"The number of vowels in the string is: {vowel_count}\")"
      ],
      "execution_count": 20,
      "outputs": [
        {
          "output_type": "stream",
          "name": "stdout",
          "text": [
            "Enter a string: harsha\n",
            "The number of vowels in the string is: 2\n"
          ]
        }
      ]
    },
    {
      "cell_type": "markdown",
      "source": [
        "Task Description#5\n",
        "●\tUse few-shot prompting to generate a function that reads a .txt file and returns the number of lines.\n",
        "Expected Output#5\n",
        "●\tWorking file-processing function with AI-guided logic\n",
        "PROMPT :\n",
        "Create a python function to generate a function that reads a .txt file and returns the number of lines. Read the input from the console For example if the input is “notes.txt” then the output must be in the form Number of lines : 42 lets take another example if the input is “data.txt” then the output must be in the form Number of lines : 12\n"
      ],
      "metadata": {
        "id": "P23XZoStwGtl"
      }
    },
    {
      "cell_type": "code",
      "source": [],
      "metadata": {
        "id": "zvNdbtS9wL2c"
      },
      "execution_count": 21,
      "outputs": []
    },
    {
      "cell_type": "code",
      "metadata": {
        "colab": {
          "base_uri": "https://localhost:8080/"
        },
        "id": "67dccd05",
        "outputId": "df53adf2-6302-4a72-c02d-c168cc233d4d"
      },
      "source": [
        "def count_lines_in_file(filename):\n",
        "  \"\"\"Reads a text file and returns the number of lines.\n",
        "\n",
        "  Args:\n",
        "    filename: The path to the text file.\n",
        "\n",
        "  Returns:\n",
        "    The number of lines in the file, or -1 if the file is not found.\n",
        "  \"\"\"\n",
        "  try:\n",
        "    with open(filename, 'r') as f:\n",
        "      lines = f.readlines()\n",
        "      return len(lines)\n",
        "  except FileNotFoundError:\n",
        "    print(f\"Error: File '{filename}' not found.\")\n",
        "    return -1\n",
        "\n",
        "# Read input from the console\n",
        "filename = input(\"Enter the filename: \")\n",
        "line_count = count_lines_in_file(filename)\n",
        "\n",
        "if line_count != -1:\n",
        "  print(f\"Number of lines: {line_count}\")"
      ],
      "execution_count": 22,
      "outputs": [
        {
          "output_type": "stream",
          "name": "stdout",
          "text": [
            "Enter the filename: /g2.txt\n",
            "Number of lines: 4\n"
          ]
        }
      ]
    }
  ]
}
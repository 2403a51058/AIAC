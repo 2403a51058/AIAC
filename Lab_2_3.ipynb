{
  "nbformat": 4,
  "nbformat_minor": 0,
  "metadata": {
    "colab": {
      "provenance": [],
      "authorship_tag": "ABX9TyMlMun1qQTqUFbCvqZ07yRv",
      "include_colab_link": true
    },
    "kernelspec": {
      "name": "python3",
      "display_name": "Python 3"
    },
    "language_info": {
      "name": "python"
    }
  },
  "cells": [
    {
      "cell_type": "markdown",
      "metadata": {
        "id": "view-in-github",
        "colab_type": "text"
      },
      "source": [
        "<a href=\"https://colab.research.google.com/github/2403a51058/AIAC/blob/main/Lab_2_3.ipynb\" target=\"_parent\"><img src=\"https://colab.research.google.com/assets/colab-badge.svg\" alt=\"Open In Colab\"/></a>"
      ]
    },
    {
      "cell_type": "markdown",
      "source": [
        "Task Description#1\n",
        "●\tUse Google Gemini in Colab to write a function that reads a CSV file and calculates mean, min, max.\n",
        "\n",
        "Expected Output#1\n",
        "●\tFunctional code with output and screenshot\n"
      ],
      "metadata": {
        "id": "UDSRS1rycIUX"
      }
    },
    {
      "cell_type": "code",
      "metadata": {
        "colab": {
          "base_uri": "https://localhost:8080/"
        },
        "id": "64935530",
        "outputId": "1924ad33-bd59-4fed-d9f3-9982664e2341"
      },
      "source": [
        "import pandas as pd\n",
        "\n",
        "def analyze_csv(file_path):\n",
        "  \"\"\"\n",
        "  Reads a CSV file and calculates mean, min, and max for numeric columns.\n",
        "\n",
        "  Args:\n",
        "    file_path (str): The path to the CSV file.\n",
        "  \"\"\"\n",
        "  try:\n",
        "    df = pd.read_csv(file_path)\n",
        "\n",
        "    numeric_cols = df.select_dtypes(include=['number'])\n",
        "\n",
        "    if numeric_cols.empty:\n",
        "      print(\"No numeric columns found in the CSV file.\")\n",
        "      return\n",
        "\n",
        "    print(f\"Analysis for: {file_path}\\n\")\n",
        "\n",
        "    for col in numeric_cols.columns:\n",
        "      mean_val = numeric_cols[col].mean()\n",
        "      min_val = numeric_cols[col].min()\n",
        "      max_val = numeric_cols[col].max()\n",
        "\n",
        "      print(f\"  Mean: {mean_val:.2f}\")\n",
        "      print(f\"  Minimum: {min_val:.2f}\")\n",
        "      print(f\"  Maximum: {max_val:.2f}\\n\")\n",
        "\n",
        "  except FileNotFoundError:\n",
        "    print(f\"Error: The file '{file_path}' was not found.\")\n",
        "  except Exception as e:\n",
        "    print(f\"An error occurred: {e}\")\n",
        "\n",
        "# Replace '/content/Lab_2.3.csv' with the actual path to your CSV file\n",
        "analyze_csv(\"/content/Lab_2.3.csv\")"
      ],
      "execution_count": 6,
      "outputs": [
        {
          "output_type": "stream",
          "name": "stdout",
          "text": [
            "Analysis for: /content/Lab_2.3.csv\n",
            "\n",
            "  Mean: 52.44\n",
            "  Minimum: 2.00\n",
            "  Maximum: 96.00\n",
            "\n"
          ]
        }
      ]
    }
  ]
}
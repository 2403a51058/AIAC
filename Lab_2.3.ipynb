{
  "nbformat": 4,
  "nbformat_minor": 0,
  "metadata": {
    "colab": {
      "provenance": [],
      "authorship_tag": "ABX9TyOdNGWwxk9oq2MDP9LnLVp4",
      "include_colab_link": true
    },
    "kernelspec": {
      "name": "python3",
      "display_name": "Python 3"
    },
    "language_info": {
      "name": "python"
    }
  },
  "cells": [
    {
      "cell_type": "markdown",
      "metadata": {
        "id": "view-in-github",
        "colab_type": "text"
      },
      "source": [
        "<a href=\"https://colab.research.google.com/github/2403a51058/AIAC/blob/main/Lab_2.3.ipynb\" target=\"_parent\"><img src=\"https://colab.research.google.com/assets/colab-badge.svg\" alt=\"Open In Colab\"/></a>"
      ]
    },
    {
      "cell_type": "markdown",
      "source": [
        "Task Description#1\n",
        "●\tUse Google Gemini in Colab to write a function that reads a CSV file and calculates mean, min, max.\n",
        "\n",
        "Expected Output#1\n",
        "●\tFunctional code with output and screenshot\n",
        "\n",
        "PROMPT:\n",
        "Write a Python function that reads a CSV file and calculates the mean, minimum, and maximum for each numeric column."
      ],
      "metadata": {
        "id": "UDSRS1rycIUX"
      }
    },
    {
      "cell_type": "code",
      "metadata": {
        "colab": {
          "base_uri": "https://localhost:8080/"
        },
        "id": "64935530",
        "outputId": "1924ad33-bd59-4fed-d9f3-9982664e2341"
      },
      "source": [
        "import pandas as pd\n",
        "\n",
        "def analyze_csv(file_path):\n",
        "  \"\"\"\n",
        "  Reads a CSV file and calculates mean, min, and max for numeric columns.\n",
        "\n",
        "  Args:\n",
        "    file_path (str): The path to the CSV file.\n",
        "  \"\"\"\n",
        "  try:\n",
        "    df = pd.read_csv(file_path)\n",
        "\n",
        "    numeric_cols = df.select_dtypes(include=['number'])\n",
        "\n",
        "    if numeric_cols.empty:\n",
        "      print(\"No numeric columns found in the CSV file.\")\n",
        "      return\n",
        "\n",
        "    print(f\"Analysis for: {file_path}\\n\")\n",
        "\n",
        "    for col in numeric_cols.columns:\n",
        "      mean_val = numeric_cols[col].mean()\n",
        "      min_val = numeric_cols[col].min()\n",
        "      max_val = numeric_cols[col].max()\n",
        "\n",
        "      print(f\"  Mean: {mean_val:.2f}\")\n",
        "      print(f\"  Minimum: {min_val:.2f}\")\n",
        "      print(f\"  Maximum: {max_val:.2f}\\n\")\n",
        "\n",
        "  except FileNotFoundError:\n",
        "    print(f\"Error: The file '{file_path}' was not found.\")\n",
        "  except Exception as e:\n",
        "    print(f\"An error occurred: {e}\")\n",
        "\n",
        "# Replace '/content/Lab_2.3.csv' with the actual path to your CSV file\n",
        "analyze_csv(\"/content/Lab_2.3.csv\")"
      ],
      "execution_count": null,
      "outputs": [
        {
          "output_type": "stream",
          "name": "stdout",
          "text": [
            "Analysis for: /content/Lab_2.3.csv\n",
            "\n",
            "  Mean: 52.44\n",
            "  Minimum: 2.00\n",
            "  Maximum: 96.00\n",
            "\n"
          ]
        }
      ]
    },
    {
      "cell_type": "markdown",
      "source": [],
      "metadata": {
        "id": "nf92gf0bih47"
      }
    },
    {
      "cell_type": "markdown",
      "source": [
        "Task Description#3\n",
        "●\tAsk Gemini to explain a Python function (to calculate area of various shapes) line by line..\n",
        "Expected Output#3\n",
        "●\tDetailed explanation with code snippet\n",
        "PROMPT :\n",
        "Explain this Python function line by line. It calculates the area of various shapes"
      ],
      "metadata": {
        "id": "ayow70yMnM1M"
      }
    },
    {
      "cell_type": "markdown",
      "source": [],
      "metadata": {
        "id": "teJNq-vaiItB"
      }
    },
    {
      "cell_type": "code",
      "source": [],
      "metadata": {
        "id": "4-FJFtYdpXB4"
      },
      "execution_count": null,
      "outputs": []
    },
    {
      "cell_type": "code",
      "metadata": {
        "colab": {
          "base_uri": "https://localhost:8080/"
        },
        "id": "eb72df20",
        "outputId": "9f782fc8-fcc3-4ca6-92f5-245c9b4af98f"
      },
      "source": [
        "import math\n",
        "\n",
        "def calculate_area(shape, *args):\n",
        "  \"\"\"\n",
        "  Calculates the area of various shapes.\n",
        "\n",
        "  Args:\n",
        "    shape (str): The name of the shape ('circle', 'rectangle', 'triangle').\n",
        "    *args: Arguments required for calculating the area of the shape.\n",
        "\n",
        "  Returns:\n",
        "    float: The area of the shape.\n",
        "  \"\"\"\n",
        "  if shape.lower() == 'circle':\n",
        "    radius = args[0]\n",
        "    return math.pi * radius**2\n",
        "  elif shape.lower() == 'rectangle':\n",
        "    length = args[0]\n",
        "    width = args[1]\n",
        "    return length * width\n",
        "  elif shape.lower() == 'triangle':\n",
        "    base = args[0]\n",
        "    height = args[1]\n",
        "    return 0.5 * base * height\n",
        "  else:\n",
        "    return \"Invalid shape\"\n",
        "\n",
        "# Example usage:\n",
        "print(f\"Area of circle with radius 5: {calculate_area('circle', 5)}\")\n",
        "print(f\"Area of rectangle with length 4 and width 6: {calculate_area('rectangle', 4, 6)}\")\n",
        "print(f\"Area of triangle with base 3 and height 8: {calculate_area('triangle', 3, 8)}\")"
      ],
      "execution_count": 1,
      "outputs": [
        {
          "output_type": "stream",
          "name": "stdout",
          "text": [
            "Area of circle with radius 5: 78.53981633974483\n",
            "Area of rectangle with length 4 and width 6: 24\n",
            "Area of triangle with base 3 and height 8: 12.0\n"
          ]
        }
      ]
    },
    {
      "cell_type": "markdown",
      "source": [
        "Task Description#5\n",
        "●\tStudent need to write code to calculate sum of add number and even numbers in the list\n",
        "Expected Output#5\n",
        "●\tRefactored code written by student with improved logic\n",
        "PROMPT :\n",
        "Write a program to calculate and print the sum of even and odd numbers from a given list."
      ],
      "metadata": {
        "id": "68ZORSSFvJkK"
      }
    },
    {
      "cell_type": "code",
      "source": [
        "def sum_even_odd(numbers):\n",
        "  \"\"\"\n",
        "  Calculates the sum of even and odd numbers in a list.\n",
        "\n",
        "  Args:\n",
        "    numbers (list): A list of numbers.\n",
        "\n",
        "  Returns:\n",
        "    tuple: A tuple containing the sum of even numbers and the sum of odd numbers.\n",
        "  \"\"\"\n",
        "  sum_even = 0\n",
        "  sum_odd = 0\n",
        "  for number in numbers:\n",
        "    if number % 2 == 0:\n",
        "      sum_even += number\n",
        "    else:\n",
        "      sum_odd += number\n",
        "  return sum_even, sum_odd\n",
        "\n",
        "# Example usage:\n",
        "my_list = [1, 2, 3, 4, 5, 6, 7, 8, 9, 10]\n",
        "even_sum, odd_sum = sum_even_odd(my_list)\n",
        "\n",
        "print(f\"The list is: {my_list}\")\n",
        "print(f\"Sum of even numbers: {even_sum}\")\n",
        "print(f\"Sum of odd numbers: {odd_sum}\")"
      ],
      "metadata": {
        "colab": {
          "base_uri": "https://localhost:8080/"
        },
        "id": "1jN21tZTwTT3",
        "outputId": "216fd1bb-2cba-4451-c228-ca0c4a6d748e"
      },
      "execution_count": 3,
      "outputs": [
        {
          "output_type": "stream",
          "name": "stdout",
          "text": [
            "The list is: [1, 2, 3, 4, 5, 6, 7, 8, 9, 10]\n",
            "Sum of even numbers: 30\n",
            "Sum of odd numbers: 25\n"
          ]
        }
      ]
    }
  ]
}